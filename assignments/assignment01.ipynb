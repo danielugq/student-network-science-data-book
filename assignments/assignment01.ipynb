{
 "cells": [
  {
   "cell_type": "markdown",
   "id": "7b95992f-b296-46d1-9d3b-9d9dc8f9032b",
   "metadata": {},
   "source": [
    "# Assignment 1 - PHYS 7332 Network Science Data 2\n",
    "## Coding part\n",
    "_Daniel Uriel González Quezada_"
   ]
  },
  {
   "cell_type": "markdown",
   "id": "ef9ead51-9c9d-406b-9ae8-b38c7a0da98b",
   "metadata": {},
   "source": [
    "## Problem 3. \n",
    "\n",
    "For this question, we will study _eigenvector centrality_. Eigenvector centrality $x_i$ of node $i$ is proportional to the sum of $i$'s neighbors' eigenvector centrality, having thus a tautological definition. Written as an equation,\n",
    "$$x_i = \\kappa^{-1} \\sum_{i=1}^n A_{ij} x_j.$$\n",
    "Which can be written in matrix from as\n",
    "$$\\textbf{x} = \\kappa^{-1} \\textbf{A}\\textbf{x} \\rightarrow \\textbf{A}\\textbf{x} = \\kappa\\textbf{x},$$\n",
    "where $\\textbf{x}$ is a vector of the nodes' centralities. The above equation corresponds to an eigenvalue problem. The Perron-Frobenius theorem assures that for a matrix with non-negative entries, the eigenvector associated to the largest eigenvalue has non-negative entries as well. Thus, finding such eigenvector, and normalizing it is enough and necessary to compute the eigenvector centrality of the graph."
   ]
  },
  {
   "cell_type": "code",
   "execution_count": 16,
   "id": "43715986-e93b-4754-b72b-9f42ffe76fab",
   "metadata": {},
   "outputs": [],
   "source": [
    "import numpy as np\n",
    "from numpy.linalg import eig\n",
    "import networkx as nx"
   ]
  },
  {
   "cell_type": "markdown",
   "id": "89179fd4-0b27-48b3-9d8d-37d74757e2f6",
   "metadata": {},
   "source": [
    "### Question a)"
   ]
  },
  {
   "cell_type": "code",
   "execution_count": 66,
   "id": "23c1a828-a4cb-42e1-96ae-3c0b8a69f8fc",
   "metadata": {},
   "outputs": [],
   "source": [
    "def eigenvector_centrality(G, u):\n",
    "    A = nx.to_numpy_array(G)                          # Easier and faster to work with numpy arrays for matrix computations.\n",
    "    node_id = list(G.nodes).index(u)                  # Index number of target node\n",
    "    evalues, evector = eig(A)                         # Solve the eigenvalue problem for adjacency matrix A\n",
    "    max_evalue_index = np.argmax(evalues)             # We find the largest eigenvalue\n",
    "    max_evector = evector[:,max_evalue_index]         # Corresponding eigenvector\n",
    "    eigenvector_centrality = np.abs(max_evector / np.sqrt(np.sum(max_evector**2))) # Normalization\n",
    "    return eigenvector_centrality[node_id]           # Eigenvector centrality of node u\n",
    "    "
   ]
  },
  {
   "cell_type": "code",
   "execution_count": 84,
   "id": "7b7c1d53-d41a-4561-b382-93f1820f84d3",
   "metadata": {},
   "outputs": [
    {
     "name": "stdout",
     "output_type": "stream",
     "text": [
      "0.0884984812685466\n",
      "0.08849895486341924\n"
     ]
    }
   ],
   "source": [
    "G = nx.erdos_renyi_graph(100, 0.11) # Simple test case using a random graph\n",
    "u = 2\n",
    "print(eigenvector_centrality(G,u))  # Comparision beween our function and networkx's one\n",
    "print(nx.eigenvector_centrality(G)[u])"
   ]
  },
  {
   "cell_type": "code",
   "execution_count": 100,
   "id": "d710ee86-6aaf-4e1c-81c4-c3c728c66327",
   "metadata": {
    "scrolled": true
   },
   "outputs": [
    {
     "name": "stdout",
     "output_type": "stream",
     "text": [
      "230.0\n",
      "6.573586795734849e-22\n",
      "7.142453038233541e-31\n"
     ]
    }
   ],
   "source": [
    "H = nx.erdos_renyi_graph(500, 0.001)\n",
    "print(np.sum(nx.to_numpy_array(H)))\n",
    "i = 3\n",
    "print(eigenvector_centrality(H,i))\n",
    "print(nx.eigenvector_centrality(H, max_iter=10000)[i])"
   ]
  },
  {
   "cell_type": "markdown",
   "id": "d01a7937-94ff-4ded-a50d-b990b9d1709c",
   "metadata": {},
   "source": [
    "### Question b)"
   ]
  },
  {
   "cell_type": "code",
   "execution_count": null,
   "id": "a4068366-8399-4ad3-b7a6-bc27630457a6",
   "metadata": {},
   "outputs": [],
   "source": [
    "def eigenvector_centrality_evolved(G, u):\n",
    "    if u not in G:\n",
    "        return  \"The selected node is not part of G\"\n",
    "    if \"networkx\" not in str(type(G)):\n",
    "        return \"G is not a networkx object\"\n",
    "    A = nx.to_numpy_array(G)\n",
    "    if np.sum(A) < \n",
    "    node_id = list(G.nodes).index(u)                  \n",
    "    evalues, evector = eig(A)\n",
    "    max_evalue_index = np.argmax(evalues)\n",
    "    max_evector = evector[:,max_evalue_index]\n",
    "    eigenvector_centrality = np.abs(max_evector / np.sqrt(np.sum(max_evector**2)))\n",
    "    return eigenvector_centrality[node_id]"
   ]
  }
 ],
 "metadata": {
  "kernelspec": {
   "display_name": "Python 3 (ipykernel)",
   "language": "python",
   "name": "python3"
  },
  "language_info": {
   "codemirror_mode": {
    "name": "ipython",
    "version": 3
   },
   "file_extension": ".py",
   "mimetype": "text/x-python",
   "name": "python",
   "nbconvert_exporter": "python",
   "pygments_lexer": "ipython3",
   "version": "3.12.4"
  }
 },
 "nbformat": 4,
 "nbformat_minor": 5
}
