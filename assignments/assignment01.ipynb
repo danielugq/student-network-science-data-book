{
 "cells": [
  {
   "cell_type": "code",
   "execution_count": null,
   "id": "5309a175-9a2f-4ab3-8cbb-113dd7afde3c",
   "metadata": {},
   "outputs": [],
   "source": []
  }
 ],
 "metadata": {
  "kernelspec": {
   "display_name": "Python 3 (ipykernel)",
   "language": "python",
   "name": "python3"
  },
  "language_info": {
   "name": ""
  }
 },
 "nbformat": 4,
 "nbformat_minor": 5
}
