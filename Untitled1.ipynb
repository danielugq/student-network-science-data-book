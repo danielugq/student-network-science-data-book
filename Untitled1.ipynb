{
 "cells": [
  {
   "cell_type": "code",
   "execution_count": 3,
   "id": "34a572a7-5a7a-4d4c-88a8-ad79c5aacd9c",
   "metadata": {},
   "outputs": [],
   "source": [
    "import requests\n",
    "from bs4 import BeautifulSoup"
   ]
  },
  {
   "cell_type": "code",
   "execution_count": 18,
   "id": "dbb5735c-e12d-4c57-a706-66a3983ab383",
   "metadata": {
    "scrolled": true
   },
   "outputs": [
    {
     "name": "stdout",
     "output_type": "stream",
     "text": [
      "None\n"
     ]
    }
   ],
   "source": [
    "test = requests.get(\"https://lol.fandom.com/wiki/Noz2k\").text\n",
    "soup = BeautifulSoup(test, \"html.parser\")\n",
    "#teams= soup.find(\"div\",{\"class\":\"player-history-teamlist\"})\n",
    "#teams = teams.find_all(\"span\",{\"class\":\"teamname\"})\n",
    "teams = soup.find(\"table\", class_=\"player-team-history hoverable-rows sortable jquery-tablesorter\")\n",
    "print(teams)\n",
    "#print(len(teams))\n",
    "#for team in teams:\n",
    "#    print(team.text)"
   ]
  },
  {
   "cell_type": "code",
   "execution_count": null,
   "id": "b032f039-e60f-41a1-8693-2d8768ff4244",
   "metadata": {},
   "outputs": [],
   "source": []
  }
 ],
 "metadata": {
  "kernelspec": {
   "display_name": "Python 3 (ipykernel)",
   "language": "python",
   "name": "python3"
  },
  "language_info": {
   "codemirror_mode": {
    "name": "ipython",
    "version": 3
   },
   "file_extension": ".py",
   "mimetype": "text/x-python",
   "name": "python",
   "nbconvert_exporter": "python",
   "pygments_lexer": "ipython3",
   "version": "3.12.4"
  }
 },
 "nbformat": 4,
 "nbformat_minor": 5
}
